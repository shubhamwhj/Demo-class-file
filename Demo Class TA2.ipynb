{
  "nbformat": 4,
  "nbformat_minor": 0,
  "metadata": {
    "colab": {
      "name": "Demo Class TA2.ipynb",
      "provenance": [],
      "collapsed_sections": []
    },
    "kernelspec": {
      "name": "python3",
      "display_name": "Python 3"
    },
    "language_info": {
      "name": "python"
    }
  },
  "cells": [
    {
      "cell_type": "code",
      "metadata": {
        "colab": {
          "base_uri": "https://localhost:8080/"
        },
        "id": "e9XCuuy0bJA0",
        "outputId": "134b6ab2-f55e-48e1-b5df-acb1fed370f1"
      },
      "source": [
        "!pip install pandas\n",
        "!pip install numpy\n"
      ],
      "execution_count": 1,
      "outputs": [
        {
          "output_type": "stream",
          "name": "stdout",
          "text": [
            "Requirement already satisfied: pandas in /usr/local/lib/python3.7/dist-packages (1.1.5)\n",
            "Requirement already satisfied: pytz>=2017.2 in /usr/local/lib/python3.7/dist-packages (from pandas) (2018.9)\n",
            "Requirement already satisfied: numpy>=1.15.4 in /usr/local/lib/python3.7/dist-packages (from pandas) (1.19.5)\n",
            "Requirement already satisfied: python-dateutil>=2.7.3 in /usr/local/lib/python3.7/dist-packages (from pandas) (2.8.2)\n",
            "Requirement already satisfied: six>=1.5 in /usr/local/lib/python3.7/dist-packages (from python-dateutil>=2.7.3->pandas) (1.15.0)\n",
            "Requirement already satisfied: numpy in /usr/local/lib/python3.7/dist-packages (1.19.5)\n",
            "\u001b[31mERROR: Could not find a version that satisfies the requirement mathplotlib (from versions: none)\u001b[0m\n",
            "\u001b[31mERROR: No matching distribution found for mathplotlib\u001b[0m\n"
          ]
        }
      ]
    },
    {
      "cell_type": "code",
      "metadata": {
        "id": "yOkDJHiaXYy5"
      },
      "source": [
        "import pandas as pd\n",
        "import numpy as np\n",
        "\n",
        "df = pd.read_csv(\"https://github.com/jainharshit27/datasets/raw/main/IPL%20Player%20Stats%20-%202016%20till%202019.csv\")\n",
        "display(df)"
      ],
      "execution_count": null,
      "outputs": []
    },
    {
      "cell_type": "code",
      "metadata": {
        "id": "7AL2Y5UCmCy3"
      },
      "source": [
        "df.Tournament.unique()\n",
        "df=df.loc[df['Tournament'] == 'IPL 2019']\n",
        "display(df)"
      ],
      "execution_count": null,
      "outputs": []
    },
    {
      "cell_type": "code",
      "metadata": {
        "id": "cPe8BU8wpPH5"
      },
      "source": [
        "newdf = df.filter(['Team','Player','Batting Innings','Batting Average','Bowling Innings','Bowling Average'], axis=1)\n",
        "display(newdf)"
      ],
      "execution_count": null,
      "outputs": []
    },
    {
      "cell_type": "code",
      "metadata": {
        "id": "GWFoBSTap8iK"
      },
      "source": [
        "newdf=newdf.replace('-', '0')\n",
        "display(newdf)"
      ],
      "execution_count": null,
      "outputs": []
    },
    {
      "cell_type": "code",
      "metadata": {
        "id": "mDzNeVeauGh8"
      },
      "source": [
        "newdf.dtypes"
      ],
      "execution_count": null,
      "outputs": []
    },
    {
      "cell_type": "code",
      "metadata": {
        "id": "BAZMw6cQte8z"
      },
      "source": [
        "newdf[['Batting Innings','Batting Average','Bowling Innings','Bowling Average']] = newdf[['Batting Innings','Batting Average','Bowling Innings','Bowling Average']].apply(pd.to_numeric)\n",
        "newdf.dtypes\n"
      ],
      "execution_count": null,
      "outputs": []
    },
    {
      "cell_type": "code",
      "metadata": {
        "id": "nkqw9xxqqe98"
      },
      "source": [
        "Allrounder=newdf[(newdf['Batting Innings'] > 6)  & (newdf['Bowling Innings'] > 6) ]\n",
        "display(Allrounder)"
      ],
      "execution_count": null,
      "outputs": []
    },
    {
      "cell_type": "code",
      "metadata": {
        "id": "K6JDqW78yD4G"
      },
      "source": [
        "Allrounder.plot.bar(x='Player',y='Batting Average',colormap='spring')"
      ],
      "execution_count": null,
      "outputs": []
    },
    {
      "cell_type": "code",
      "metadata": {
        "id": "9ooCANF92g1W"
      },
      "source": [
        "Allrounder.plot.bar(x='Player',y='Bowling Average',colormap='Paired')"
      ],
      "execution_count": null,
      "outputs": []
    },
    {
      "cell_type": "code",
      "metadata": {
        "id": "MLGy3LmO7LWa"
      },
      "source": [
        ""
      ],
      "execution_count": null,
      "outputs": []
    }
  ]
}